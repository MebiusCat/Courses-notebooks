{
 "cells": [
  {
   "cell_type": "code",
   "execution_count": 13,
   "id": "47514b8c",
   "metadata": {},
   "outputs": [],
   "source": [
    "import random\n",
    "import pandas as pd\n",
    "from datetime import datetime"
   ]
  },
  {
   "cell_type": "code",
   "execution_count": 24,
   "id": "6c941949",
   "metadata": {},
   "outputs": [
    {
     "data": {
      "text/plain": [
       "array(['2020-01-02', '2020-01-03', '2020-01-04', ..., '2025-01-06',\n",
       "       '2025-01-07', '2025-01-08'], dtype=object)"
      ]
     },
     "execution_count": 24,
     "metadata": {},
     "output_type": "execute_result"
    }
   ],
   "source": [
    "pd.date_range(start='2020-01-02', end='2025-01-08').astype(str).values"
   ]
  },
  {
   "cell_type": "code",
   "execution_count": 25,
   "id": "1f0d9e56",
   "metadata": {},
   "outputs": [],
   "source": [
    "dates = pd.date_range(start='2020-01-02', end='2025-01-08').astype(str).values"
   ]
  },
  {
   "cell_type": "code",
   "execution_count": 32,
   "id": "82bb0326",
   "metadata": {
    "scrolled": true
   },
   "outputs": [
    {
     "name": "stdout",
     "output_type": "stream",
     "text": [
      "boo0 = Booking(id=0,facility_id=8, member_id=7, start_time=datetime.strptime('2023-04-10','%Y-%m-%d'), slots=20)\n",
      "boo1 = Booking(id=1,facility_id=6, member_id=4, start_time=datetime.strptime('2022-05-06','%Y-%m-%d'), slots=1)\n",
      "boo2 = Booking(id=2,facility_id=1, member_id=6, start_time=datetime.strptime('2024-02-27','%Y-%m-%d'), slots=1)\n",
      "boo3 = Booking(id=3,facility_id=2, member_id=3, start_time=datetime.strptime('2021-07-14','%Y-%m-%d'), slots=14)\n",
      "boo4 = Booking(id=4,facility_id=2, member_id=4, start_time=datetime.strptime('2021-01-18','%Y-%m-%d'), slots=13)\n",
      "boo5 = Booking(id=5,facility_id=8, member_id=3, start_time=datetime.strptime('2020-12-20','%Y-%m-%d'), slots=3)\n",
      "boo6 = Booking(id=6,facility_id=9, member_id=2, start_time=datetime.strptime('2020-06-19','%Y-%m-%d'), slots=11)\n",
      "boo7 = Booking(id=7,facility_id=7, member_id=3, start_time=datetime.strptime('2021-08-27','%Y-%m-%d'), slots=11)\n",
      "boo8 = Booking(id=8,facility_id=5, member_id=3, start_time=datetime.strptime('2023-11-28','%Y-%m-%d'), slots=10)\n",
      "boo9 = Booking(id=9,facility_id=9, member_id=2, start_time=datetime.strptime('2020-06-22','%Y-%m-%d'), slots=11)\n",
      "boo10 = Booking(id=10,facility_id=1, member_id=7, start_time=datetime.strptime('2022-02-08','%Y-%m-%d'), slots=16)\n",
      "boo11 = Booking(id=11,facility_id=3, member_id=4, start_time=datetime.strptime('2020-08-13','%Y-%m-%d'), slots=18)\n",
      "boo12 = Booking(id=12,facility_id=5, member_id=6, start_time=datetime.strptime('2023-07-07','%Y-%m-%d'), slots=3)\n",
      "boo13 = Booking(id=13,facility_id=4, member_id=7, start_time=datetime.strptime('2022-04-01','%Y-%m-%d'), slots=6)\n",
      "boo14 = Booking(id=14,facility_id=2, member_id=3, start_time=datetime.strptime('2022-01-02','%Y-%m-%d'), slots=6)\n",
      "boo15 = Booking(id=15,facility_id=1, member_id=2, start_time=datetime.strptime('2022-08-20','%Y-%m-%d'), slots=11)\n",
      "boo16 = Booking(id=16,facility_id=5, member_id=4, start_time=datetime.strptime('2022-04-20','%Y-%m-%d'), slots=4)\n",
      "boo17 = Booking(id=17,facility_id=6, member_id=2, start_time=datetime.strptime('2022-06-18','%Y-%m-%d'), slots=3)\n",
      "boo18 = Booking(id=18,facility_id=8, member_id=3, start_time=datetime.strptime('2021-10-14','%Y-%m-%d'), slots=10)\n",
      "boo19 = Booking(id=19,facility_id=5, member_id=6, start_time=datetime.strptime('2021-10-02','%Y-%m-%d'), slots=11)\n"
     ]
    }
   ],
   "source": [
    "for x in range(20):\n",
    "    print(f\"boo{x} = Booking(id={x},facility_id={random.randint(1, 9)}, member_id={random.randint(1, 7)}, start_time=datetime.strptime('{random.choice(dates)}','%Y-%m-%d'), slots={random.randint(1, 20)})\")"
   ]
  },
  {
   "cell_type": "code",
   "execution_count": 27,
   "id": "3e721ea8",
   "metadata": {},
   "outputs": [
    {
     "data": {
      "text/plain": [
       "'boo0,boo1,boo2,boo3,boo4,boo5,boo6,boo7,boo8,boo9,boo10,boo11,boo12,boo13,boo14,boo15,boo16,boo17,boo18,boo19'"
      ]
     },
     "execution_count": 27,
     "metadata": {},
     "output_type": "execute_result"
    }
   ],
   "source": [
    "\",\".join(f'boo{x}' for x in range(20))"
   ]
  },
  {
   "cell_type": "code",
   "execution_count": null,
   "id": "411f455a",
   "metadata": {},
   "outputs": [],
   "source": []
  }
 ],
 "metadata": {
  "kernelspec": {
   "display_name": "Python 3",
   "language": "python",
   "name": "python3"
  },
  "language_info": {
   "codemirror_mode": {
    "name": "ipython",
    "version": 3
   },
   "file_extension": ".py",
   "mimetype": "text/x-python",
   "name": "python",
   "nbconvert_exporter": "python",
   "pygments_lexer": "ipython3",
   "version": "3.7.6"
  }
 },
 "nbformat": 4,
 "nbformat_minor": 5
}
