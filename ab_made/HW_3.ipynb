{
 "cells": [
  {
   "cell_type": "raw",
   "id": "ac9033d7",
   "metadata": {},
   "source": [
    "1. Реализовать формулу подсчета длительности теста, сравнить ее с онлайн калькуляторами (например https://mindbox.ru/tools/ab-test-calculator/ ). \n",
    "При сравнении оценить мощность критерия при указанном изменении и рассчитанном количестве наблюдений в выборке. \n",
    "\n",
    "2. Реализовать метод линеаризации. Проверить для него корректность и мощность. \n",
    "Мощность должна быть больше, чем просто на обычных значениях конверсии пользователей.\n",
    "\n",
    "3.Реализовать метод CUPED. Проверить для него корректность и мощность. \n",
    "Данные на этапе до A/B тесте необходимо сгенерировать один раз, \n",
    "далее синтетически генерировать только часть, связанную с проведением A/B-теста."
   ]
  },
  {
   "cell_type": "code",
   "execution_count": 1,
   "id": "fbd254a8",
   "metadata": {},
   "outputs": [],
   "source": [
    "import numpy as np\n",
    "import pandas as pd\n",
    "import scipy.stats as sps\n",
    "import plotly.graph_objs as go"
   ]
  },
  {
   "cell_type": "code",
   "execution_count": 2,
   "id": "dde0e336",
   "metadata": {},
   "outputs": [],
   "source": [
    "def get_qq_plot(p_values):\n",
    "    \"\"\"Рисует распределение p-value\"\"\"\n",
    "    p_values = np.array(p_values)\n",
    "    probs = []\n",
    "    x = [0.01 * i for i in range(101)]\n",
    "    for i in range(101):\n",
    "        alpha_step = 0.01 * i\n",
    "        probs.append(p_values[p_values < alpha_step].shape[0] / p_values.shape[0])\n",
    "    fig = go.Figure([go.Scatter(x=x, y=probs, mode=\"markers\", name=\"p_value\"),\n",
    "                 go.Scatter(x=x, y=x, mode=\"lines\", name=\"uniform\")])\n",
    "    fig.update_layout(height=600, width=600, title=\"Q-Q plot\") \n",
    "    return fig\n",
    "\n",
    "def get_power(p_values, alpha=0.05):\n",
    "    \"\"\"Оценка мощности критерия, при условии, что значения p_value взяты при наличии \n",
    "    различий в сравниваемых выборках \n",
    "    \"\"\"\n",
    "    p_values = np.array(p_values)\n",
    "    return p_values[p_values < alpha].shape[0] / p_values.shape[0] * 100"
   ]
  },
  {
   "cell_type": "code",
   "execution_count": 3,
   "id": "81796ae5",
   "metadata": {},
   "outputs": [],
   "source": [
    "def duration(k, delta_effect, sigma_1, sigma_2, alpha=0.05, beta=0.2):\n",
    "    z = sps.norm.ppf(1 - alpha / 2) + sps.norm.ppf(1 - beta)\n",
    "    n = (k + 1) * z ** 2 * (sigma_1 ** 2 + sigma_2 ** 2 / k) / (delta_effect ** 2)\n",
    "    return n"
   ]
  },
  {
   "cell_type": "code",
   "execution_count": 4,
   "id": "20811a7d",
   "metadata": {},
   "outputs": [],
   "source": [
    "def step(dist=\"norm\", test=\"t\", loc=1.0, scale=1.0, p=0.2, effect=0.01, size=100):\n",
    "    if dist == \"norm\":\n",
    "        x_a = sps.norm.rvs(loc=loc, scale=scale, size=size)\n",
    "        x_b = sps.norm.rvs(loc=loc + effect, scale=scale, size=size)\n",
    "    elif dist == \"bernoulli\":\n",
    "        x_a = sps.bernoulli.rvs(p, size=size)\n",
    "        x_b = sps.bernoulli.rvs(p+effect, size=size)\n",
    "    else:\n",
    "        raise ValueError(f\"Distribution type '{dist}' is not supported\")\n",
    "    \n",
    "    if test == \"t\":\n",
    "        p_value = sps.ttest_ind(x_a, x_b, equal_var=False).pvalue\n",
    "    elif test == \"mv\":\n",
    "        p_value = sps.mannwhitneyu(x_a, x_b).pvalue\n",
    "    else:\n",
    "        raise ValueError(f\"Test type '{test}' is not supported\")\n",
    "        \n",
    "    return p_value    \n",
    "\n",
    "def make_experiment(dist=\"norm\", loc=1.0, scale=1.0, p=0.2, effect=0.01, size=100, n_exp=10_000):\n",
    "        \n",
    "    p_value_t = np.array(\n",
    "        [step(dist, \"t\", loc, scale, p, effect, size) for _ in range(n_exp)]\n",
    "    )\n",
    "    p_value_mv = np.array(\n",
    "        [step(dist, \"mv\", loc, scale, p, effect, size) for _ in range(n_exp)]\n",
    "    )\n",
    "    \n",
    "    return get_power(p_value_t), get_power(p_value_mv)\n",
    "\n",
    "def test_duration2(dist=\"norm\", loc=1.0, sigma_1=1.0, sigma_2=1.0, p=0.2, delta_effect=[], alpha=0.05, beta=0.2, n_exp=10_000):\n",
    "\n",
    "    print(f\"Expected criterion's power: {1 - beta}\")\n",
    "    if dist == \"norm\":\n",
    "        print(f\"Distribution's params: loc = {loc}, scale = {sigma_1}\")\n",
    "    elif dist == \"bernoulli\":\n",
    "        print(f\"Distribution's params: p = {p}\")\n",
    "        sigma_1 = np.sqrt(p * (1 - p))\n",
    "        sigma_2 = np.sqrt(p * (1 - p))\n",
    "    else:\n",
    "        raise ValueError(f\"Distribution type '{dist}' is not supported\") \n",
    "    \n",
    "    for de in delta_effect:     \n",
    "        n = duration(\n",
    "            k=1,\n",
    "            delta_effect=de,\n",
    "            sigma_1=sigma_1,\n",
    "            sigma_2=sigma_2,\n",
    "            alpha=0.05\n",
    "        )\n",
    "        \n",
    "        ttest, mv = make_experiment(dist, loc, sigma_1, p, de, int(n // 2), n_exp)\n",
    "        print(f\"Effect: {de:.3} | n_total: {int(n)} | power: ttest = {ttest:.3} mannwhitneyu = {mv:.3}\")\n",
    "    print(\"------------------------------------------------\")"
   ]
  },
  {
   "cell_type": "raw",
   "id": "5440e282",
   "metadata": {},
   "source": [
    "1. Реализовать формулу подсчета длительности теста, сравнить ее с онлайн калькуляторами (например https://mindbox.ru/tools/ab-test-calculator/ ). \n",
    "При сравнении оценить мощность критерия при указанном изменении и рассчитанном количестве наблюдений в выборке. "
   ]
  },
  {
   "cell_type": "markdown",
   "id": "3a16731a",
   "metadata": {},
   "source": [
    "Вариант с нормальным распределением"
   ]
  },
  {
   "cell_type": "code",
   "execution_count": 5,
   "id": "9c313938",
   "metadata": {},
   "outputs": [
    {
     "name": "stdout",
     "output_type": "stream",
     "text": [
      "Expected criterion's power: 0.8\n",
      "Distribution's params: loc = 1, scale = 100\n",
      "Effect: 3.0 | n_total: 34883 | power: ttest = 80.5 mannwhitneyu = 80.0\n",
      "Effect: 4.0 | n_total: 19622 | power: ttest = 81.0 mannwhitneyu = 78.2\n",
      "Effect: 5.0 | n_total: 12558 | power: ttest = 78.5 mannwhitneyu = 79.5\n",
      "Effect: 7.0 | n_total: 6407 | power: ttest = 78.5 mannwhitneyu = 76.7\n",
      "Effect: 10.0 | n_total: 3139 | power: ttest = 80.5 mannwhitneyu = 78.8\n",
      "------------------------------------------------\n"
     ]
    }
   ],
   "source": [
    "delta_effect = [3., 4., 5., 7., 10.]\n",
    "test_duration2(\n",
    "    dist=\"norm\",\n",
    "    loc=1,\n",
    "    sigma_1=100,\n",
    "    sigma_2=100,\n",
    "    delta_effect=delta_effect,\n",
    "    n_exp=1_000\n",
    ")"
   ]
  },
  {
   "cell_type": "markdown",
   "id": "221d71a3",
   "metadata": {},
   "source": [
    "Вариант для отклика"
   ]
  },
  {
   "cell_type": "code",
   "execution_count": 6,
   "id": "dd8cad68",
   "metadata": {},
   "outputs": [
    {
     "name": "stdout",
     "output_type": "stream",
     "text": [
      "Expected criterion's power: 0.8\n",
      "Distribution's params: p = 0.2\n",
      "Effect: 0.01 | n_total: 50232 | power: ttest = 81.0 mannwhitneyu = 81.6\n",
      "Effect: 0.015 | n_total: 22325 | power: ttest = 79.7 mannwhitneyu = 76.2\n",
      "Effect: 0.02 | n_total: 12558 | power: ttest = 79.7 mannwhitneyu = 77.3\n",
      "Effect: 0.025 | n_total: 8037 | power: ttest = 77.7 mannwhitneyu = 78.2\n",
      "------------------------------------------------\n"
     ]
    }
   ],
   "source": [
    "delta_effect = [0.01, 0.015, 0.02, 0.025]\n",
    "test_duration2(\n",
    "    dist=\"bernoulli\",\n",
    "    p=0.2,\n",
    "    delta_effect=delta_effect,\n",
    "    n_exp=1_000\n",
    ")"
   ]
  },
  {
   "cell_type": "markdown",
   "id": "c97de190",
   "metadata": {},
   "source": [
    "![pic](./pics/exp_p_2.png)"
   ]
  },
  {
   "cell_type": "code",
   "execution_count": 7,
   "id": "040097c3",
   "metadata": {},
   "outputs": [
    {
     "name": "stdout",
     "output_type": "stream",
     "text": [
      "Expected criterion's power: 0.8\n",
      "Distribution's params: p = 0.2\n",
      "Effect: 0.03 | n_total: 5581 | power: ttest = 79.1 mannwhitneyu = 77.0\n",
      "Effect: 0.04 | n_total: 3139 | power: ttest = 75.8 mannwhitneyu = 75.7\n",
      "Effect: 0.05 | n_total: 2009 | power: ttest = 75.3 mannwhitneyu = 76.7\n",
      "------------------------------------------------\n"
     ]
    }
   ],
   "source": [
    "delta_effect = [0.03, 0.04, 0.05]\n",
    "test_duration2(\n",
    "    dist=\"bernoulli\",\n",
    "    p=0.2,\n",
    "    delta_effect=delta_effect,\n",
    "    n_exp=1_000\n",
    ")"
   ]
  },
  {
   "cell_type": "markdown",
   "id": "2b24a258",
   "metadata": {},
   "source": [
    "![pic](./pics/exp_p_5.png)"
   ]
  },
  {
   "cell_type": "raw",
   "id": "8cb6b16b",
   "metadata": {},
   "source": [
    "Расчетное количество совпало с онлайн-калькулятором"
   ]
  },
  {
   "cell_type": "raw",
   "id": "26ac5ff7",
   "metadata": {},
   "source": [
    "2. Реализовать метод линеаризации. Проверить для него корректность и мощность. \n",
    "Мощность должна быть больше, чем просто на обычных значениях конверсии пользователей."
   ]
  },
  {
   "cell_type": "code",
   "execution_count": null,
   "id": "168daa43",
   "metadata": {},
   "outputs": [],
   "source": [
    "%%time\n",
    "x = sps.expon.rvs(loc=100, scale=100, size=1000)\n",
    "go.Figure([go.Histogram(x=x, nbinsx=100)])"
   ]
  },
  {
   "cell_type": "markdown",
   "id": "88965fb0",
   "metadata": {},
   "source": [
    "![pic](./pics/hw_2_exp_hist.png)"
   ]
  },
  {
   "cell_type": "code",
   "execution_count": 9,
   "id": "b246a745",
   "metadata": {},
   "outputs": [
    {
     "name": "stdout",
     "output_type": "stream",
     "text": [
      "CPU times: user 2 µs, sys: 1 µs, total: 3 µs\n",
      "Wall time: 4.05 µs\n"
     ]
    }
   ],
   "source": [
    "%%time\n",
    "def get_lin(res=\"p\", effect=0.):\n",
    "    n_exp = 1000\n",
    "    p_values = []\n",
    "    p_values_lin = []\n",
    "    for _ in range(n_exp):\n",
    "        records = []\n",
    "        for i in range(100):\n",
    "            n_views = int(sps.expon.rvs(loc=100, scale=100))\n",
    "            clicks = sps.bernoulli.rvs(p=0.05, size=n_views)\n",
    "            records.append((n_views, np.sum(clicks), np.sum(clicks) / n_views, \"A\"))\n",
    "        for i in range(100):\n",
    "            n_views = int(sps.expon.rvs(loc=100, scale=100))\n",
    "            clicks = sps.bernoulli.rvs(p=0.05+effect, size=n_views)\n",
    "            records.append((n_views, np.sum(clicks), np.sum(clicks) / n_views, \"B\"))  \n",
    "        df_data = pd.DataFrame(records, columns=[\"views\", \"clicks\", \"cr\", \"group\"])\n",
    "        cr_A = df_data[df_data[\"group\"] == \"A\"][\"clicks\"].sum() / df_data[df_data[\"group\"] == \"A\"][\"views\"].sum()\n",
    "\n",
    "        df_data[\"cr_lin\"] = df_data[\"cr\"] - cr_A * df_data[\"views\"]\n",
    "\n",
    "        x_a = df_data[df_data[\"group\"] == \"A\"][\"cr\"]\n",
    "        x_b = df_data[df_data[\"group\"] == \"B\"][\"cr\"]\n",
    "        p_values.append(sps.ttest_ind(x_a, x_b).pvalue)\n",
    "\n",
    "        x_a = df_data[df_data[\"group\"] == \"A\"][\"cr_lin\"]\n",
    "        x_b = df_data[df_data[\"group\"] == \"B\"][\"cr_lin\"]\n",
    "        p_values_lin.append(sps.ttest_ind(x_a, x_b).pvalue)\n",
    "\n",
    "    return p_values if res == \"p\" else p_values_lin\n",
    "    "
   ]
  },
  {
   "cell_type": "code",
   "execution_count": null,
   "id": "61ff13b0",
   "metadata": {},
   "outputs": [],
   "source": [
    "get_qq_plot(get_lin(\"p\", 0))"
   ]
  },
  {
   "cell_type": "markdown",
   "id": "8f389d88",
   "metadata": {},
   "source": [
    "![pic](./pics/hw_2_qq.png)"
   ]
  },
  {
   "cell_type": "code",
   "execution_count": null,
   "id": "a4734cd1",
   "metadata": {},
   "outputs": [],
   "source": [
    "get_qq_plot(get_lin(\"lin\", 0))"
   ]
  },
  {
   "cell_type": "markdown",
   "id": "7e66486d",
   "metadata": {},
   "source": [
    "![pic](./pics/hw_2_qq_lin.png)"
   ]
  },
  {
   "cell_type": "raw",
   "id": "561eae10",
   "metadata": {},
   "source": [
    "Добавим эффект 0.005"
   ]
  },
  {
   "cell_type": "code",
   "execution_count": null,
   "id": "bcf51292",
   "metadata": {},
   "outputs": [],
   "source": [
    "get_qq_plot(get_lin(\"lin\", 0.005))"
   ]
  },
  {
   "cell_type": "markdown",
   "id": "0c406479",
   "metadata": {},
   "source": [
    "![pic](./pics/hw_2_qq_lin_5.png)"
   ]
  },
  {
   "cell_type": "code",
   "execution_count": null,
   "id": "467ccfa9",
   "metadata": {},
   "outputs": [],
   "source": [
    "for effect in [0.005, 0.007, 0.01]:\n",
    "    pwr = get_power(get_lin(\"lin\", effect))\n",
    "    lin_pwr = get_power(get_lin(\"lin\", effect))\n",
    "    print(f\"Effect: {effect}, power: {pwr}, lin power: {lin_pwr}\")\n"
   ]
  },
  {
   "cell_type": "raw",
   "id": "a37b195e",
   "metadata": {},
   "source": [
    "3.Реализовать метод CUPED. Проверить для него корректность и мощность. \n",
    "Данные на этапе до A/B тесте необходимо сгенерировать один раз, \n",
    "далее синтетически генерировать только часть, связанную с проведением A/B-теста."
   ]
  },
  {
   "cell_type": "code",
   "execution_count": null,
   "id": "6e4674d1",
   "metadata": {},
   "outputs": [],
   "source": [
    "%%time\n",
    "def cuped_exp(effect, res=\"p\"): \n",
    "    n_exp = 1000\n",
    "    p_values = []\n",
    "    p_values_cuped = []\n",
    "    size = 1000\n",
    "\n",
    "    # Pre_experiment\n",
    "    pre_exp = sps.norm.rvs(loc=100, scale=20, size=size)\n",
    "\n",
    "    for _ in range(n_exp):\n",
    "        df_A = pd.DataFrame()\n",
    "        df_A[\"user\"] = [f\"A_{x:5}\" for x in range(size)]\n",
    "        df_A[\"pre_exp\"] = pre_exp\n",
    "        df_A[\"payments\"] = sps.norm.rvs(loc=1., scale=0.1, size=size) * df_A[\"pre_exp\"]\n",
    "\n",
    "        df_B = pd.DataFrame()\n",
    "        df_B[\"user\"] = [f\"B_{x:5}\" for x in range(size)]\n",
    "        df_B[\"pre_exp\"] = pre_exp\n",
    "        df_B[\"payments\"] = sps.norm.rvs(loc=1.+effect, scale=0.1, size=size) * df_B[\"pre_exp\"]\n",
    "\n",
    "        p_values.append(sps.ttest_ind(df_A[\"payments\"], df_B[\"payments\"]).pvalue)\n",
    "\n",
    "        x_a = df_A[\"pre_exp\"]\n",
    "        x_b = df_B[\"pre_exp\"]\n",
    "        y_a = df_A[\"payments\"]\n",
    "        y_b = df_A[\"payments\"]\n",
    "        theta = np.cov(x_a, y_a)[0, 1] / np.std(x_a) ** 2\n",
    "\n",
    "        df_A[\"payments_cuped\"] = df_A[\"payments\"] - theta * df_A[\"pre_exp\"]\n",
    "        df_B[\"payments_cuped\"] = df_B[\"payments\"] - theta * df_B[\"pre_exp\"]\n",
    "\n",
    "        p_values_cuped.append(sps.ttest_ind(df_A[\"payments_cuped\"], df_B[\"payments_cuped\"]).pvalue)\n",
    "        \n",
    "    return p_values if res == \"p\" else p_values_cuped"
   ]
  },
  {
   "cell_type": "code",
   "execution_count": null,
   "id": "0570de38",
   "metadata": {},
   "outputs": [],
   "source": [
    "get_qq_plot(cuped_exp(0.01, \"p\"))"
   ]
  },
  {
   "cell_type": "markdown",
   "id": "d2412a42",
   "metadata": {},
   "source": [
    "![pic](./pics/hw_2_qq_cuped.png)"
   ]
  },
  {
   "cell_type": "code",
   "execution_count": null,
   "id": "3d7d3778",
   "metadata": {},
   "outputs": [],
   "source": [
    "get_qq_plot(cuped_exp(0.01, \"cuped\"))"
   ]
  },
  {
   "cell_type": "markdown",
   "id": "b001ae0c",
   "metadata": {},
   "source": [
    "![pic](./pics/hw_2_qq_cuped2.png)"
   ]
  },
  {
   "cell_type": "code",
   "execution_count": null,
   "id": "aea4b7f7",
   "metadata": {},
   "outputs": [],
   "source": [
    "for effect in [0.005, 0.01, 0.02, 0.03]:\n",
    "    pwr = get_power(cuped_exp(effect, \"p\"))\n",
    "    lin_pwr = get_power(cuped_exp(effect, \"cuped\"))\n",
    "    print(f\"Effect: {effect}, power: {pwr:.3}, cuped power: {lin_pwr:.3}\")"
   ]
  },
  {
   "cell_type": "code",
   "execution_count": null,
   "id": "f22d0f4a",
   "metadata": {},
   "outputs": [],
   "source": []
  }
 ],
 "metadata": {
  "kernelspec": {
   "display_name": "Python 3",
   "language": "python",
   "name": "python3"
  },
  "language_info": {
   "codemirror_mode": {
    "name": "ipython",
    "version": 3
   },
   "file_extension": ".py",
   "mimetype": "text/x-python",
   "name": "python",
   "nbconvert_exporter": "python",
   "pygments_lexer": "ipython3",
   "version": "3.7.6"
  }
 },
 "nbformat": 4,
 "nbformat_minor": 5
}
