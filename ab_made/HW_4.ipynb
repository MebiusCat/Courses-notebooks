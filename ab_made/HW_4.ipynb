{
 "cells": [
  {
   "cell_type": "code",
   "execution_count": null,
   "id": "b789cbdb",
   "metadata": {},
   "outputs": [],
   "source": [
    "import numpy as np\n",
    "import pandas as pd\n",
    "import scipy.stats as sps\n",
    "import plotly.graph_objs as go"
   ]
  },
  {
   "cell_type": "markdown",
   "id": "0c215dbb",
   "metadata": {},
   "source": [
    "### Reading file"
   ]
  },
  {
   "cell_type": "code",
   "execution_count": null,
   "id": "f966563e",
   "metadata": {},
   "outputs": [],
   "source": [
    "df = pd.read_csv(\"data.csv\")\n",
    "df.timestamp = pd.to_datetime(df.timestamp, unit='s')\n",
    "df.date = pd.to_datetime(df.date)"
   ]
  },
  {
   "cell_type": "code",
   "execution_count": null,
   "id": "c80a8260",
   "metadata": {},
   "outputs": [],
   "source": [
    "df.sample(5)"
   ]
  },
  {
   "cell_type": "code",
   "execution_count": null,
   "id": "b00dc736",
   "metadata": {},
   "outputs": [],
   "source": [
    "pre_group = df[df[\"group\"].isna()]\n",
    "group_a = df[df[\"group\"] == \"A\"]\n",
    "group_b = df[df[\"group\"] == \"B\"]"
   ]
  },
  {
   "cell_type": "markdown",
   "id": "66c823d8",
   "metadata": {},
   "source": [
    "### Data description"
   ]
  },
  {
   "cell_type": "code",
   "execution_count": null,
   "id": "f32c91ad",
   "metadata": {},
   "outputs": [],
   "source": [
    "print(\"Pre-period\")\n",
    "print(f\"The test period ranges from {pre_group['date'].min().strftime('%Y-%m-%d')} to {pre_group['date'].max().strftime('%Y-%m-%d')}\")\n",
    "print(f\"Number of unique users: {pre_group['id_user'].nunique()}\")\n",
    "print(f\"Number of events: {pre_group['id_user'].count()}\")\n",
    "\n",
    "print(\"\\nGroup A\")\n",
    "print(f\"The test period ranges from {group_a['date'].min().strftime('%Y-%m-%d')} to {group_a['date'].max().strftime('%Y-%m-%d')}\")\n",
    "print(f\"Number of unique users: {group_a['id_user'].nunique()}\")\n",
    "print(f\"Number of events: {group_a['id_user'].count()}\")\n",
    "\n",
    "print(\"\\nGroup B\")\n",
    "print(f\"The test period ranges from {group_b['date'].min().strftime('%Y-%m-%d')} to {group_b['date'].max().strftime('%Y-%m-%d')}\")\n",
    "print(f\"Number of unique users: {group_b['id_user'].nunique()}\")\n",
    "print(f\"Number of events: {group_b['id_user'].count()}\")"
   ]
  },
  {
   "cell_type": "markdown",
   "id": "72194030",
   "metadata": {},
   "source": [
    "### Outlier's analysis"
   ]
  },
  {
   "cell_type": "code",
   "execution_count": null,
   "id": "77a26422",
   "metadata": {},
   "outputs": [],
   "source": [
    "threshold = 0.01"
   ]
  },
  {
   "cell_type": "markdown",
   "id": "5056d523",
   "metadata": {},
   "source": [
    "#### Pre-experiment"
   ]
  },
  {
   "cell_type": "code",
   "execution_count": null,
   "id": "0c6c40fe",
   "metadata": {},
   "outputs": [],
   "source": [
    "lower_bound = pre_group.sum_payment.quantile(threshold)\n",
    "upper_bound = pre_group.sum_payment.quantile(1 - threshold)\n",
    "outliers = pre_group[\n",
    "    (pre_group.sum_payment < lower_bound) | (pre_group.sum_payment > upper_bound)\n",
    "]"
   ]
  },
  {
   "cell_type": "markdown",
   "id": "a8b277ac",
   "metadata": {},
   "source": [
    "Replace outliers with lower and upper bound values"
   ]
  },
  {
   "cell_type": "code",
   "execution_count": null,
   "id": "5bb7971b",
   "metadata": {},
   "outputs": [],
   "source": [
    "pre_group.loc[\n",
    "    pre_group.index.isin(outliers.index), \"sum_payment\"\n",
    "] = pre_group.loc[pre_group.index.isin(outliers.index), \"sum_payment\"].apply(lambda x: min(x, upper_bound))"
   ]
  },
  {
   "cell_type": "code",
   "execution_count": null,
   "id": "8fb60696",
   "metadata": {},
   "outputs": [],
   "source": [
    "_, bp = pre_group.sum_payment.plot.box(return_type='both')"
   ]
  },
  {
   "cell_type": "markdown",
   "id": "0a8fd0a3",
   "metadata": {},
   "source": [
    "#### Duration for experiment"
   ]
  },
  {
   "cell_type": "code",
   "execution_count": null,
   "id": "3839ba0a",
   "metadata": {},
   "outputs": [],
   "source": [
    "def duration(k, delta_effect, sigma_1, sigma_2, alpha=0.05, beta=0.2):\n",
    "    z = sps.norm.ppf(1 - alpha / 2) + sps.norm.ppf(1 - beta)\n",
    "    n = (k + 1) * z ** 2 * (sigma_1 ** 2 + sigma_2 ** 2 / k) / (delta_effect ** 2)\n",
    "    return n"
   ]
  },
  {
   "cell_type": "code",
   "execution_count": null,
   "id": "c1a74a46",
   "metadata": {},
   "outputs": [],
   "source": [
    "def metric(df):\n",
    "    df_first = df.groupby(\"id_user\", as_index=False)[\"timestamp\"].min()\n",
    "    df_first[\"next_week\"] = df_first[\"timestamp\"] + pd.Timedelta(days=7)\n",
    "    \n",
    "    df_tmp = (\n",
    "        df\n",
    "        .merge(df_first.drop([\"timestamp\"], axis=1),\n",
    "               on=[\"id_user\"]\n",
    "              )\n",
    "        .query(\"timestamp < next_week\")\n",
    "        .groupby(\"id_user\", as_index=False)\n",
    "        .agg({\"sum_payment\": sum})\n",
    "        .sort_values(\"sum_payment\", ascending=False)\n",
    "    )\n",
    "    \n",
    "    return df_tmp.sum_payment.to_numpy()    "
   ]
  },
  {
   "cell_type": "code",
   "execution_count": null,
   "id": "92be9131",
   "metadata": {},
   "outputs": [],
   "source": [
    "est_size = int(\n",
    "    duration(\n",
    "        1,\n",
    "        np.mean(metric(pre_group)) * 0.1,\n",
    "        np.std(metric(pre_group), ddof=1),\n",
    "        np.std(metric(pre_group), ddof=1)\n",
    "    ) * 0.5\n",
    ") \n",
    "total_size = group_a[\"id_user\"].nunique()"
   ]
  },
  {
   "cell_type": "code",
   "execution_count": null,
   "id": "9c976d4a",
   "metadata": {},
   "outputs": [],
   "source": [
    "print(f\"With our estimation we need a sample-size: {est_size}. We actually have {total_size} for each sample.\")\n",
    "print(\"It's possible to filter some data in group A and B dataframes to decrease size to calculated amount. But I decided to leave it that much.\")"
   ]
  },
  {
   "cell_type": "markdown",
   "id": "da829aa0",
   "metadata": {},
   "source": [
    "### Getting rid of outliers in experimental groups"
   ]
  },
  {
   "cell_type": "markdown",
   "id": "898228b7",
   "metadata": {},
   "source": [
    "#### Group A"
   ]
  },
  {
   "cell_type": "code",
   "execution_count": null,
   "id": "79bcdd50",
   "metadata": {},
   "outputs": [],
   "source": [
    "lower_bound = group_a.sum_payment.quantile(threshold)\n",
    "upper_bound = group_a.sum_payment.quantile(1 - threshold)\n",
    "outliers = group_a[\n",
    "    (group_a.sum_payment < lower_bound) | (group_a.sum_payment > upper_bound)\n",
    "]\n",
    "\n",
    "group_a.loc[\n",
    "    group_a.index.isin(outliers.index), \"sum_payment\"\n",
    "] = group_a.loc[group_a.index.isin(outliers.index), \"sum_payment\"].apply(lambda x: min(x, upper_bound))"
   ]
  },
  {
   "cell_type": "code",
   "execution_count": null,
   "id": "6f07e171",
   "metadata": {},
   "outputs": [],
   "source": [
    "_, bp = pre_group.sum_payment.plot.box(return_type='both')"
   ]
  },
  {
   "cell_type": "markdown",
   "id": "c7a0d8b3",
   "metadata": {},
   "source": [
    "#### Group B"
   ]
  },
  {
   "cell_type": "code",
   "execution_count": null,
   "id": "f83c2aa1",
   "metadata": {},
   "outputs": [],
   "source": [
    "lower_bound = group_b.sum_payment.quantile(threshold)\n",
    "upper_bound = group_b.sum_payment.quantile(1 - threshold)\n",
    "outliers = group_b[\n",
    "    (group_b.sum_payment < lower_bound) | (group_b.sum_payment > upper_bound)\n",
    "]\n",
    "\n",
    "group_b.loc[\n",
    "    group_b.index.isin(outliers.index), \"sum_payment\"\n",
    "] = group_b.loc[group_b.index.isin(outliers.index), \"sum_payment\"].apply(lambda x: min(x, upper_bound))"
   ]
  },
  {
   "cell_type": "code",
   "execution_count": null,
   "id": "e02c22d6",
   "metadata": {},
   "outputs": [],
   "source": [
    "_, bp = pre_group.sum_payment.plot.box(return_type='both')"
   ]
  },
  {
   "cell_type": "markdown",
   "id": "d64fcac1",
   "metadata": {},
   "source": [
    "### A/A test checking"
   ]
  },
  {
   "cell_type": "code",
   "execution_count": null,
   "id": "10367842",
   "metadata": {},
   "outputs": [],
   "source": [
    "def qq_plot(x_1, x_2):\n",
    "    p_values = []\n",
    "    n_exp = 10_000\n",
    "    size = 100\n",
    "    for _ in range(n_exp):\n",
    "        x_a = np.random.choice(x_1, size=size)\n",
    "        x_b = np.random.choice(x_2, size=size)\n",
    "        p_values.append(sps.ttest_ind(x_a, x_b, equal_var=False).pvalue)\n",
    "\n",
    "    p_values = np.array(p_values)    \n",
    "    probs = []\n",
    "    x = [0.01 * i for i in range(101)]\n",
    "    \n",
    "    for i in range(101):\n",
    "        alpha_step = 0.01 * i\n",
    "        probs.append(np.mean(p_values < alpha_step))\n",
    "        \n",
    "    fig = go.Figure([go.Scatter(x=x, y=probs, name=\"p_value\", mode=\"markers\"),\n",
    "                    go.Scatter(x=x, y=x, mode=\"lines\", name=\"uniform\")])\n",
    "    fig.update_layout(height=400, width=600)\n",
    "    fig.show()"
   ]
  },
  {
   "cell_type": "code",
   "execution_count": null,
   "id": "fbfa7643",
   "metadata": {},
   "outputs": [],
   "source": [
    "qq_plot(metric(pre_group), metric(pre_group))"
   ]
  },
  {
   "cell_type": "markdown",
   "id": "1eb6c24a",
   "metadata": {},
   "source": [
    "![pic](./pics/p_val_aa.png)"
   ]
  },
  {
   "cell_type": "markdown",
   "id": "4eee5911",
   "metadata": {},
   "source": [
    "### A/B test analysis"
   ]
  },
  {
   "cell_type": "code",
   "execution_count": null,
   "id": "3f191edb",
   "metadata": {},
   "outputs": [],
   "source": [
    "def dynamic_metric(df, eop):\n",
    "    df_first = df.groupby(\"id_user\", as_index=False)[\"timestamp\"].min()\n",
    "    df_first[\"next_week\"] = df_first[\"timestamp\"] + pd.Timedelta(days=7)\n",
    "    \n",
    "    df_tmp = (\n",
    "        df\n",
    "        .merge(df_first.drop([\"timestamp\"], axis=1),\n",
    "               on=[\"id_user\"]\n",
    "              )\n",
    "        .query(f\"timestamp < next_week & next_week <= @eop\")\n",
    "        .groupby(\"id_user\", as_index=False)\n",
    "        .agg({\"sum_payment\": sum})\n",
    "        .sort_values(\"sum_payment\", ascending=False)\n",
    "    )\n",
    "    \n",
    "    return df_tmp.sum_payment.to_numpy()  "
   ]
  },
  {
   "cell_type": "code",
   "execution_count": null,
   "id": "0e181cad",
   "metadata": {},
   "outputs": [],
   "source": [
    "res = []\n",
    "for t_date in pd.date_range('2023-05-09', '2023-06-01'):\n",
    "    x_A = dynamic_metric(group_a, t_date)\n",
    "    x_B = dynamic_metric(group_b, t_date)   \n",
    "    p_value = sps.ttest_ind(x_A, x_B).pvalue\n",
    "    res.append((t_date, np.mean(x_A), np.mean(x_B), np.mean(x_B) - np.mean(x_A), p_value))\n",
    "    \n",
    "df_res = pd.DataFrame(res, columns=[\"date\", \"mean_A\", \"mean_B\", \"effect\", \"p_value\"]).set_index(\"date\")\n",
    "df_res.index.name = None"
   ]
  },
  {
   "cell_type": "code",
   "execution_count": null,
   "id": "28404aa2",
   "metadata": {},
   "outputs": [],
   "source": [
    "df_res.tail(1)"
   ]
  },
  {
   "cell_type": "code",
   "execution_count": null,
   "id": "dcdbc6b5",
   "metadata": {},
   "outputs": [],
   "source": [
    "fig = go.Figure([go.Scatter(x=pd.date_range('2023-05-09', '2023-05-31'), y=df_res.p_value, name=\"p_value\"),\n",
    "          go.Scatter(x=pd.date_range('2023-05-09', '2023-05-31'), y=[0.05] * df_res.shape[0], name=\"alpha\")])\n",
    "fig.update_layout(title=\"P_value dynamic throught testing period\")"
   ]
  },
  {
   "cell_type": "markdown",
   "id": "248d26b7",
   "metadata": {},
   "source": [
    "![pic](./pics/p_val_dyn.png)"
   ]
  },
  {
   "cell_type": "markdown",
   "id": "638b0107",
   "metadata": {},
   "source": [
    "Making one more qq-plot, just for research"
   ]
  },
  {
   "cell_type": "code",
   "execution_count": null,
   "id": "12b71d21",
   "metadata": {},
   "outputs": [],
   "source": [
    "qq_plot(df_res.mean_A, df_res.mean_B)"
   ]
  },
  {
   "cell_type": "markdown",
   "id": "40776024",
   "metadata": {},
   "source": [
    "![pic](./pics/p_val_ab.png)"
   ]
  },
  {
   "cell_type": "markdown",
   "id": "687aca6e",
   "metadata": {},
   "source": [
    "### Conclusion"
   ]
  },
  {
   "cell_type": "markdown",
   "id": "f95935bf",
   "metadata": {},
   "source": [
    "We did some great work! Our changes lead us to big success and we should reject our null hypothesis, because there is a difference!"
   ]
  }
 ],
 "metadata": {
  "kernelspec": {
   "display_name": "Python 3",
   "language": "python",
   "name": "python3"
  },
  "language_info": {
   "codemirror_mode": {
    "name": "ipython",
    "version": 3
   },
   "file_extension": ".py",
   "mimetype": "text/x-python",
   "name": "python",
   "nbconvert_exporter": "python",
   "pygments_lexer": "ipython3",
   "version": "3.7.6"
  }
 },
 "nbformat": 4,
 "nbformat_minor": 5
}
